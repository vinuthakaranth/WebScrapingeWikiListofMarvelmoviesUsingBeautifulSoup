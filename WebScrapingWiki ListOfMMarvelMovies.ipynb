{
 "cells": [
  {
   "cell_type": "code",
   "execution_count": 84,
   "metadata": {
    "collapsed": true
   },
   "outputs": [],
   "source": [
    "#import relevant libraries\n",
    "import wordcloud\n",
    "import matplotlib\n",
    "import bs4\n",
    "import csv\n",
    "import pandas\n",
    "import numpy as np\n",
    "from collections import Counter\n",
    "from urllib.request import urlopen as uReq\n",
    "from bs4 import BeautifulSoup as soup\n",
    "from matplotlib import pyplot as plt\n",
    "from wordcloud import WordCloud\n",
    "from PIL import Image"
   ]
  },
  {
   "cell_type": "code",
   "execution_count": 85,
   "metadata": {
    "collapsed": true
   },
   "outputs": [],
   "source": [
    "#open connection, grab page\n",
    "my_url = 'https://en.wikipedia.org/wiki/List_of_Marvel_Cinematic_Universe_films'\n",
    "uClient = uReq(my_url)\n",
    "page_html = uClient.read()\n",
    "uClient.close()"
   ]
  },
  {
   "cell_type": "code",
   "execution_count": 86,
   "metadata": {
    "collapsed": true
   },
   "outputs": [],
   "source": [
    "#open csv file for writing\n",
    "file_name = \"MarvelBoxOffice.csv\"\n",
    "f = open(file_name,\"w\")"
   ]
  },
  {
   "cell_type": "code",
   "execution_count": 87,
   "metadata": {
    "collapsed": true
   },
   "outputs": [],
   "source": [
    "#write headers to csv\n",
    "headers = \"Film, US Release date, Worldwide Gross, Worldwide Ranking\\n\"\n",
    "f.write(headers)\n",
    "\n",
    "# html parser\n",
    "page_soup = soup(page_html,\"html.parser\")"
   ]
  },
  {
   "cell_type": "code",
   "execution_count": 88,
   "metadata": {},
   "outputs": [
    {
     "data": {
      "text/plain": [
       "<table class=\"wikitable sortable\" style=\"text-align: center\" width=\"99%\">\n",
       "<tr>\n",
       "<th rowspan=\"2\" scope=\"col\">Film</th>\n",
       "<th rowspan=\"2\" scope=\"col\">U.S. release date</th>\n",
       "<th class=\"sortable\" colspan=\"3\" scope=\"col\">Box office gross</th>\n",
       "<th class=\"unsortable\" colspan=\"2\" scope=\"col\">All-time Ranking</th>\n",
       "<th rowspan=\"2\" scope=\"col\">Budget</th>\n",
       "<th class=\"unsortable\" rowspan=\"2\" scope=\"col\"><span class=\"nowrap\"><abbr title=\"References\">Ref(s)</abbr></span></th>\n",
       "</tr>\n",
       "<tr>\n",
       "<th>U.S. and Canada</th>\n",
       "<th>Other territories</th>\n",
       "<th>Worldwide</th>\n",
       "<th class=\"sortable\"><a class=\"mw-redirect\" href=\"/wiki/List_of_highest-grossing_films_in_Canada_and_the_United_States#Not_adjusted_for_inflation\" title=\"List of highest-grossing films in Canada and the United States\">U.S. and Canada</a></th>\n",
       "<th class=\"sortable\"><a href=\"/wiki/List_of_highest-grossing_films\" title=\"List of highest-grossing films\">Worldwide</a></th>\n",
       "</tr>\n",
       "<tr>\n",
       "<td scope=\"row\"><i>Iron Man</i></td>\n",
       "<td>May 2, 2008</td>\n",
       "<td>$318,412,101</td>\n",
       "<td>$266,762,121</td>\n",
       "<td>$585,174,222</td>\n",
       "<td>60</td>\n",
       "<td>146</td>\n",
       "<td>$140 million</td>\n",
       "<td><sup class=\"reference\" id=\"cite_ref-IMBOM_377-0\"><a href=\"#cite_note-IMBOM-377\">[376]</a></sup></td>\n",
       "</tr>\n",
       "<tr>\n",
       "<td scope=\"row\"><span class=\"sortkey\" style=\"display:none;\">Incredible Hulk !</span><span class=\"sorttext\"><i>The Incredible Hulk</i></span></td>\n",
       "<td>June 13, 2008</td>\n",
       "<td>$134,806,913</td>\n",
       "<td>$128,620,638</td>\n",
       "<td>$263,427,551</td>\n",
       "<td>408</td>\n",
       "<td>508</td>\n",
       "<td>$150 million</td>\n",
       "<td><sup class=\"reference\" id=\"cite_ref-HulkBOM_378-0\"><a href=\"#cite_note-HulkBOM-378\">[377]</a></sup></td>\n",
       "</tr>\n",
       "<tr>\n",
       "<td scope=\"row\"><i>Iron Man 2</i></td>\n",
       "<td>May 7, 2010</td>\n",
       "<td>$312,433,331</td>\n",
       "<td>$311,500,000</td>\n",
       "<td>$623,933,331</td>\n",
       "<td>65</td>\n",
       "<td>128</td>\n",
       "<td>$200 million</td>\n",
       "<td><sup class=\"reference\" id=\"cite_ref-IM2BOM_379-0\"><a href=\"#cite_note-IM2BOM-379\">[378]</a></sup></td>\n",
       "</tr>\n",
       "<tr>\n",
       "<td scope=\"row\"><i>Thor</i></td>\n",
       "<td>May 6, 2011</td>\n",
       "<td>$181,030,624</td>\n",
       "<td>$268,295,994</td>\n",
       "<td>$449,326,618</td>\n",
       "<td>230</td>\n",
       "<td>222</td>\n",
       "<td>$150 million</td>\n",
       "<td><sup class=\"reference\" id=\"cite_ref-ThorBOM_380-0\"><a href=\"#cite_note-ThorBOM-380\">[379]</a></sup></td>\n",
       "</tr>\n",
       "<tr>\n",
       "<td scope=\"row\"><i>Captain America: The First Avenger</i></td>\n",
       "<td>July 22, 2011</td>\n",
       "<td>$176,654,505</td>\n",
       "<td>$193,915,269</td>\n",
       "<td>$370,569,774</td>\n",
       "<td>246</td>\n",
       "<td>298</td>\n",
       "<td>$140 million</td>\n",
       "<td><sup class=\"reference\" id=\"cite_ref-CapTFABOM_381-0\"><a href=\"#cite_note-CapTFABOM-381\">[380]</a></sup></td>\n",
       "</tr>\n",
       "<tr>\n",
       "<td scope=\"row\"><i>Marvel's The Avengers</i></td>\n",
       "<td>May 4, 2012</td>\n",
       "<td>$623,357,910</td>\n",
       "<td>$895,455,078</td>\n",
       "<td>$1,518,812,988</td>\n",
       "<td>6</td>\n",
       "<td>5</td>\n",
       "<td>$220 million</td>\n",
       "<td><sup class=\"reference\" id=\"cite_ref-AvengersBOM_382-0\"><a href=\"#cite_note-AvengersBOM-382\">[381]</a></sup></td>\n",
       "</tr>\n",
       "<tr>\n",
       "<td scope=\"row\"><i>Iron Man 3</i></td>\n",
       "<td>May 3, 2013</td>\n",
       "<td>$409,013,994</td>\n",
       "<td>$805,797,258</td>\n",
       "<td>$1,214,811,252</td>\n",
       "<td>23</td>\n",
       "<td>14</td>\n",
       "<td>$200 million (gross)<br/>\n",
       "$178.4 million (net)</td>\n",
       "<td><sup class=\"reference\" id=\"cite_ref-IM3BOM_383-0\"><a href=\"#cite_note-IM3BOM-383\">[382]</a></sup><br/>\n",
       "<sup class=\"reference\" id=\"cite_ref-FilmLA2013_384-0\"><a href=\"#cite_note-FilmLA2013-384\">[383]</a></sup></td>\n",
       "</tr>\n",
       "<tr>\n",
       "<td scope=\"row\"><i>Thor: The Dark World</i></td>\n",
       "<td>November 8, 2013</td>\n",
       "<td>$206,362,140</td>\n",
       "<td>$438,209,262</td>\n",
       "<td>$644,571,402</td>\n",
       "<td>180</td>\n",
       "<td>119</td>\n",
       "<td>$170 million (gross)<br/>\n",
       "$152.7 million (net)</td>\n",
       "<td><sup class=\"reference\" id=\"cite_ref-ThorTDWBOM_385-0\"><a href=\"#cite_note-ThorTDWBOM-385\">[384]</a></sup><br/>\n",
       "<sup class=\"reference\" id=\"cite_ref-FilmLA2013_384-1\"><a href=\"#cite_note-FilmLA2013-384\">[383]</a></sup></td>\n",
       "</tr>\n",
       "<tr>\n",
       "<td scope=\"row\"><i>Captain America: The Winter Soldier</i></td>\n",
       "<td>April 4, 2014</td>\n",
       "<td>$259,766,572</td>\n",
       "<td>$454,497,695</td>\n",
       "<td>$714,264,267</td>\n",
       "<td>103</td>\n",
       "<td>96</td>\n",
       "<td>$177 million</td>\n",
       "<td><sup class=\"reference\" id=\"cite_ref-CapTWSBOM_386-0\"><a href=\"#cite_note-CapTWSBOM-386\">[385]</a></sup><br/>\n",
       "<sup class=\"reference\" id=\"cite_ref-FilmLA2014_387-0\"><a href=\"#cite_note-FilmLA2014-387\">[386]</a></sup></td>\n",
       "</tr>\n",
       "<tr>\n",
       "<td scope=\"row\"><i>Guardians of the Galaxy</i></td>\n",
       "<td>August 1, 2014</td>\n",
       "<td>$333,176,600</td>\n",
       "<td>$440,152,029</td>\n",
       "<td>$773,328,629</td>\n",
       "<td>53</td>\n",
       "<td>81</td>\n",
       "<td>$232.3 million (gross)<br/>\n",
       "$195.9 million (net)</td>\n",
       "<td><sup class=\"reference\" id=\"cite_ref-GotGBOM_388-0\"><a href=\"#cite_note-GotGBOM-388\">[387]</a></sup><br/>\n",
       "<sup class=\"reference\" id=\"cite_ref-GotGActualBudget_389-0\"><a href=\"#cite_note-GotGActualBudget-389\">[388]</a></sup></td>\n",
       "</tr>\n",
       "<tr>\n",
       "<td scope=\"row\"><i>Avengers: Age of Ultron</i></td>\n",
       "<td>May 1, 2015</td>\n",
       "<td>$459,005,868</td>\n",
       "<td>$946,397,826</td>\n",
       "<td>$1,405,403,694</td>\n",
       "<td>14</td>\n",
       "<td>7</td>\n",
       "<td>$316 million (gross)<br/>\n",
       "$267.4 million (net)</td>\n",
       "<td><sup class=\"reference\" id=\"cite_ref-AAoUBOM_390-0\"><a href=\"#cite_note-AAoUBOM-390\">[389]</a></sup><br/>\n",
       "<sup class=\"reference\" id=\"cite_ref-FilmLA2015_391-0\"><a href=\"#cite_note-FilmLA2015-391\">[390]</a></sup></td>\n",
       "</tr>\n",
       "<tr>\n",
       "<td scope=\"row\"><i>Ant-Man</i></td>\n",
       "<td>July 17, 2015</td>\n",
       "<td>$180,202,163</td>\n",
       "<td>$339,109,802</td>\n",
       "<td>$519,311,965</td>\n",
       "<td>232</td>\n",
       "<td>179</td>\n",
       "<td>$142 million</td>\n",
       "<td><sup class=\"reference\" id=\"cite_ref-AMBOM_392-0\"><a href=\"#cite_note-AMBOM-392\">[391]</a></sup><br/>\n",
       "<sup class=\"reference\" id=\"cite_ref-FilmLA2015_391-1\"><a href=\"#cite_note-FilmLA2015-391\">[390]</a></sup></td>\n",
       "</tr>\n",
       "<tr>\n",
       "<td scope=\"row\"><i>Captain America: Civil War</i></td>\n",
       "<td>May 6, 2016</td>\n",
       "<td>$408,084,349</td>\n",
       "<td>$745,220,146</td>\n",
       "<td>$1,153,304,495</td>\n",
       "<td>24</td>\n",
       "<td>16</td>\n",
       "<td>$250 million</td>\n",
       "<td><sup class=\"reference\" id=\"cite_ref-CapCWBOM_393-0\"><a href=\"#cite_note-CapCWBOM-393\">[392]</a></sup></td>\n",
       "</tr>\n",
       "<tr>\n",
       "<td scope=\"row\"><i>Doctor Strange</i></td>\n",
       "<td>November 4, 2016</td>\n",
       "<td>$232,641,920</td>\n",
       "<td>$445,076,475</td>\n",
       "<td>$677,718,395</td>\n",
       "<td>138</td>\n",
       "<td>108</td>\n",
       "<td>$165 million</td>\n",
       "<td><sup class=\"reference\" id=\"cite_ref-DSBOM_394-0\"><a href=\"#cite_note-DSBOM-394\">[393]</a></sup></td>\n",
       "</tr>\n",
       "<tr>\n",
       "<td scope=\"row\"><i>Guardians of the Galaxy Vol. 2</i></td>\n",
       "<td>May 5, 2017</td>\n",
       "<td>$389,813,101</td>\n",
       "<td>$473,942,950</td>\n",
       "<td>$863,756,051</td>\n",
       "<td>31</td>\n",
       "<td>60</td>\n",
       "<td>$200 million</td>\n",
       "<td><sup class=\"reference\" id=\"cite_ref-GOTGVol2BOM_395-0\"><a href=\"#cite_note-GOTGVol2BOM-395\">[394]</a></sup></td>\n",
       "</tr>\n",
       "<tr>\n",
       "<td scope=\"row\"><i>Spider-Man: Homecoming</i></td>\n",
       "<td>July 7, 2017</td>\n",
       "<td>$334,201,140</td>\n",
       "<td>$545,965,784</td>\n",
       "<td>$880,166,924</td>\n",
       "<td>51</td>\n",
       "<td>52</td>\n",
       "<td>$175 million</td>\n",
       "<td><sup class=\"reference\" id=\"cite_ref-SMHBOM_396-0\"><a href=\"#cite_note-SMHBOM-396\">[395]</a></sup></td>\n",
       "</tr>\n",
       "<tr>\n",
       "<td scope=\"row\"><i>Thor: Ragnarok</i></td>\n",
       "<td>November 3, 2017</td>\n",
       "<td>$315,058,289</td>\n",
       "<td>$538,912,347</td>\n",
       "<td>$853,970,636</td>\n",
       "<td>64</td>\n",
       "<td>62</td>\n",
       "<td>$180 million</td>\n",
       "<td><sup class=\"reference\" id=\"cite_ref-ThorRBOM_397-0\"><a href=\"#cite_note-ThorRBOM-397\">[396]</a></sup></td>\n",
       "</tr>\n",
       "<tr>\n",
       "<td scope=\"row\"><i>Black Panther</i></td>\n",
       "<td>February 16, 2018</td>\n",
       "<td>$655,623,379</td>\n",
       "<td>$626,700,000</td>\n",
       "<td>$1,282,323,379</td>\n",
       "<td>4</td>\n",
       "<td>10</td>\n",
       "<td>$200 million</td>\n",
       "<td><sup class=\"reference\" id=\"cite_ref-BPBOM_398-0\"><a href=\"#cite_note-BPBOM-398\">[397]</a></sup></td>\n",
       "</tr>\n",
       "<tr>\n",
       "<th colspan=\"2\" scope=\"row\">Total</th>\n",
       "<th>$<span class=\"nowrap\"><span class=\"sortkey\" style=\"display:none\">7009592964489900000♠</span>5,929,644,899</span></th>\n",
       "<th>$<span class=\"nowrap\"><span class=\"sortkey\" style=\"display:none\">7009886453067400000♠</span>8,864,530,674</span></th>\n",
       "<th>$<span class=\"nowrap\"><span class=\"sortkey\" style=\"display:none\">7010147941755730000♠</span>14,794,175,573</span></th>\n",
       "<th>1</th>\n",
       "<th>1</th>\n",
       "<th>$3.407 billion (gross)<br/>\n",
       "$3.283 billion (net)</th>\n",
       "<th><sup class=\"reference\" id=\"cite_ref-AllTimeDomesticBOM_399-0\"><a href=\"#cite_note-AllTimeDomesticBOM-399\">[398]</a></sup><br/>\n",
       "<sup class=\"reference\" id=\"cite_ref-TotalBOM_400-0\"><a href=\"#cite_note-TotalBOM-400\">[399]</a></sup></th>\n",
       "</tr>\n",
       "</table>"
      ]
     },
     "execution_count": 88,
     "metadata": {},
     "output_type": "execute_result"
    }
   ],
   "source": [
    "table = page_soup.findAll(\"table\", {\"class\":\"wikitable\"}) \n",
    "BoxOfficetable = table[4]\n",
    "BoxOfficetable\n"
   ]
  },
  {
   "cell_type": "code",
   "execution_count": 89,
   "metadata": {},
   "outputs": [
    {
     "data": {
      "text/plain": [
       "<tr>\n",
       "<td scope=\"row\"><i>Iron Man</i></td>\n",
       "<td>May 2, 2008</td>\n",
       "<td>$318,412,101</td>\n",
       "<td>$266,762,121</td>\n",
       "<td>$585,174,222</td>\n",
       "<td>60</td>\n",
       "<td>146</td>\n",
       "<td>$140 million</td>\n",
       "<td><sup class=\"reference\" id=\"cite_ref-IMBOM_377-0\"><a href=\"#cite_note-IMBOM-377\">[376]</a></sup></td>\n",
       "</tr>"
      ]
     },
     "execution_count": 89,
     "metadata": {},
     "output_type": "execute_result"
    }
   ],
   "source": [
    "table_row = BoxOfficetable.findAll(\"tr\") \n",
    "table_row[2]"
   ]
  },
  {
   "cell_type": "code",
   "execution_count": 90,
   "metadata": {},
   "outputs": [
    {
     "data": {
      "text/plain": [
       "'Iron Man'"
      ]
     },
     "execution_count": 90,
     "metadata": {},
     "output_type": "execute_result"
    }
   ],
   "source": [
    "FilmName = BoxOfficetable.findAll(\"td\", {\"scope\":\"row\"}) \n",
    "FilmName[0].string"
   ]
  },
  {
   "cell_type": "code",
   "execution_count": 91,
   "metadata": {},
   "outputs": [
    {
     "data": {
      "text/plain": [
       "'Iron Man'"
      ]
     },
     "execution_count": 91,
     "metadata": {},
     "output_type": "execute_result"
    }
   ],
   "source": [
    "row_info = table_row[2].findAll(\"td\")\n",
    "Film = row_info[0].text\n",
    "Film"
   ]
  },
  {
   "cell_type": "code",
   "execution_count": 92,
   "metadata": {},
   "outputs": [
    {
     "data": {
      "text/plain": [
       "'May 2, 2008'"
      ]
     },
     "execution_count": 92,
     "metadata": {},
     "output_type": "execute_result"
    }
   ],
   "source": [
    "row_info = BoxOfficetable.findAll(\"td\")\n",
    "USReleasedate = row_info[1].text\n",
    "USReleasedate"
   ]
  },
  {
   "cell_type": "code",
   "execution_count": 93,
   "metadata": {},
   "outputs": [
    {
     "data": {
      "text/plain": [
       "'$585,174,222'"
      ]
     },
     "execution_count": 93,
     "metadata": {},
     "output_type": "execute_result"
    }
   ],
   "source": [
    "row_info = BoxOfficetable.findAll(\"td\")\n",
    "WorldwideGross = row_info[4].text\n",
    "WorldwideGross"
   ]
  },
  {
   "cell_type": "code",
   "execution_count": 94,
   "metadata": {},
   "outputs": [
    {
     "data": {
      "text/plain": [
       "'146'"
      ]
     },
     "execution_count": 94,
     "metadata": {},
     "output_type": "execute_result"
    }
   ],
   "source": [
    "row_info = BoxOfficetable.findAll(\"td\")\n",
    "WorldwideRanking = row_info[6].text\n",
    "WorldwideRanking"
   ]
  },
  {
   "cell_type": "code",
   "execution_count": 95,
   "metadata": {},
   "outputs": [],
   "source": [
    "table_row = BoxOfficetable.findAll(\"tr\") \n",
    "for row in table_row[2:len(table_row)-1]:    \n",
    "    row_info = row.findAll(\"td\")\n",
    "    Film = row_info[0].text\n",
    "    USReleasedate = row_info[1].text\n",
    "    WorldwideGross = row_info[4].text\n",
    "    WorldwideRanking = row_info[6].text\n",
    "    f.write(Film.replace(\",\", \"|\").replace(\"\\n\",\"\") + \",\" + USReleasedate.replace(\",\", \"|\") + \",\" + WorldwideGross.replace(\",\", \"|\") + \",\" + WorldwideRanking.replace(\",\", \"|\").replace(\"\\n\",\"\") + \"\\n\")\n",
    "    \n",
    "f.close() "
   ]
  },
  {
   "cell_type": "code",
   "execution_count": 51,
   "metadata": {},
   "outputs": [],
   "source": [
    "#create arrays to hold data from csv columns\n",
    "movieNames = []\n",
    "grossCollection = []\n",
    "\n",
    "#read data from csv columns to arrays\n",
    "with open('MarvelBoxOffice.csv') as csvfile:\n",
    "\treadCSV = csv.reader(csvfile, delimiter = ',')\n",
    "\tfor row in readCSV:\n",
    "\t\tmovieNames.append(row[0])\n",
    "\t\tgrossCollection.append(row[2].replace(\"|\",\"\").replace(\"$\",\"\"))\n"
   ]
  },
  {
   "cell_type": "code",
   "execution_count": 108,
   "metadata": {},
   "outputs": [
    {
     "name": "stdout",
     "output_type": "stream",
     "text": [
      "                                    Film    US Release date  Worldwide Gross  \\\n",
      "0                               Iron Man        May 2| 2008     $585|174|222   \n",
      "1   Incredible Hulk !The Incredible Hulk      June 13| 2008     $263|427|551   \n",
      "2                             Iron Man 2        May 7| 2010     $623|933|331   \n",
      "3                                   Thor        May 6| 2011     $449|326|618   \n",
      "4     Captain America: The First Avenger      July 22| 2011     $370|569|774   \n",
      "5                  Marvel's The Avengers        May 4| 2012   $1|518|812|988   \n",
      "6                             Iron Man 3        May 3| 2013   $1|214|811|252   \n",
      "7                   Thor: The Dark World   November 8| 2013     $644|571|402   \n",
      "8    Captain America: The Winter Soldier      April 4| 2014     $714|264|267   \n",
      "9                Guardians of the Galaxy     August 1| 2014     $773|328|629   \n",
      "10               Avengers: Age of Ultron        May 1| 2015   $1|405|403|694   \n",
      "11                               Ant-Man      July 17| 2015     $519|311|965   \n",
      "12            Captain America: Civil War        May 6| 2016   $1|153|304|495   \n",
      "13                        Doctor Strange   November 4| 2016     $677|718|395   \n",
      "14        Guardians of the Galaxy Vol. 2        May 5| 2017     $863|756|051   \n",
      "15                Spider-Man: Homecoming       July 7| 2017     $880|166|924   \n",
      "16                        Thor: Ragnarok   November 3| 2017     $853|970|636   \n",
      "17                         Black Panther  February 16| 2018   $1|282|323|379   \n",
      "\n",
      "     Worldwide Ranking  \n",
      "0                  146  \n",
      "1                  508  \n",
      "2                  128  \n",
      "3                  222  \n",
      "4                  298  \n",
      "5                    5  \n",
      "6                   14  \n",
      "7                  119  \n",
      "8                   96  \n",
      "9                   81  \n",
      "10                   7  \n",
      "11                 179  \n",
      "12                  16  \n",
      "13                 108  \n",
      "14                  60  \n",
      "15                  52  \n",
      "16                  62  \n",
      "17                  10  \n"
     ]
    }
   ],
   "source": [
    "moviedata=pandas.read_csv(\"MarvelBoxOffice.csv\")\n",
    "print(moviedata)"
   ]
  },
  {
   "cell_type": "code",
   "execution_count": 104,
   "metadata": {},
   "outputs": [
    {
     "data": {
      "text/html": [
       "<div>\n",
       "<style>\n",
       "    .dataframe thead tr:only-child th {\n",
       "        text-align: right;\n",
       "    }\n",
       "\n",
       "    .dataframe thead th {\n",
       "        text-align: left;\n",
       "    }\n",
       "\n",
       "    .dataframe tbody tr th {\n",
       "        vertical-align: top;\n",
       "    }\n",
       "</style>\n",
       "<table border=\"1\" class=\"dataframe\">\n",
       "  <thead>\n",
       "    <tr style=\"text-align: right;\">\n",
       "      <th></th>\n",
       "      <th>Film</th>\n",
       "      <th>US Release date</th>\n",
       "      <th>Worldwide Gross</th>\n",
       "      <th>Worldwide Ranking</th>\n",
       "    </tr>\n",
       "  </thead>\n",
       "  <tbody>\n",
       "    <tr>\n",
       "      <th>0</th>\n",
       "      <td>Iron Man</td>\n",
       "      <td>May 2| 2008</td>\n",
       "      <td>$585|174|222</td>\n",
       "      <td>146</td>\n",
       "    </tr>\n",
       "    <tr>\n",
       "      <th>1</th>\n",
       "      <td>Incredible Hulk !The Incredible Hulk</td>\n",
       "      <td>June 13| 2008</td>\n",
       "      <td>$263|427|551</td>\n",
       "      <td>508</td>\n",
       "    </tr>\n",
       "    <tr>\n",
       "      <th>2</th>\n",
       "      <td>Iron Man 2</td>\n",
       "      <td>May 7| 2010</td>\n",
       "      <td>$623|933|331</td>\n",
       "      <td>128</td>\n",
       "    </tr>\n",
       "    <tr>\n",
       "      <th>3</th>\n",
       "      <td>Thor</td>\n",
       "      <td>May 6| 2011</td>\n",
       "      <td>$449|326|618</td>\n",
       "      <td>222</td>\n",
       "    </tr>\n",
       "    <tr>\n",
       "      <th>4</th>\n",
       "      <td>Captain America: The First Avenger</td>\n",
       "      <td>July 22| 2011</td>\n",
       "      <td>$370|569|774</td>\n",
       "      <td>298</td>\n",
       "    </tr>\n",
       "  </tbody>\n",
       "</table>\n",
       "</div>"
      ],
      "text/plain": [
       "                                   Film  US Release date  Worldwide Gross  \\\n",
       "0                              Iron Man      May 2| 2008     $585|174|222   \n",
       "1  Incredible Hulk !The Incredible Hulk    June 13| 2008     $263|427|551   \n",
       "2                            Iron Man 2      May 7| 2010     $623|933|331   \n",
       "3                                  Thor      May 6| 2011     $449|326|618   \n",
       "4    Captain America: The First Avenger    July 22| 2011     $370|569|774   \n",
       "\n",
       "    Worldwide Ranking  \n",
       "0                 146  \n",
       "1                 508  \n",
       "2                 128  \n",
       "3                 222  \n",
       "4                 298  "
      ]
     },
     "execution_count": 104,
     "metadata": {},
     "output_type": "execute_result"
    }
   ],
   "source": [
    "moviedata=pandas.read_csv(\"MarvelBoxOffice.csv\")\n",
    "moviedata.head()\n",
    "\n",
    "moviedata.describe()"
   ]
  },
  {
   "cell_type": "code",
   "execution_count": 97,
   "metadata": {},
   "outputs": [
    {
     "data": {
      "text/plain": [
       "count               18\n",
       "unique              18\n",
       "top       $519|311|965\n",
       "freq                 1\n",
       "Name:  Worldwide Gross, dtype: object"
      ]
     },
     "execution_count": 97,
     "metadata": {},
     "output_type": "execute_result"
    }
   ],
   "source": [
    "moviedata[' Worldwide Gross'].describe()"
   ]
  },
  {
   "cell_type": "code",
   "execution_count": 98,
   "metadata": {},
   "outputs": [
    {
     "data": {
      "text/plain": [
       "Film                  object\n",
       " US Release date      object\n",
       " Worldwide Gross      object\n",
       " Worldwide Ranking     int64\n",
       "dtype: object"
      ]
     },
     "execution_count": 98,
     "metadata": {},
     "output_type": "execute_result"
    }
   ],
   "source": [
    "moviedata.dtypes"
   ]
  },
  {
   "cell_type": "code",
   "execution_count": 99,
   "metadata": {},
   "outputs": [
    {
     "data": {
      "text/plain": [
       "Film\n",
       "Ant-Man                                 1\n",
       "Avengers: Age of Ultron                 1\n",
       "Black Panther                           1\n",
       "Captain America: Civil War              1\n",
       "Captain America: The First Avenger      1\n",
       "Captain America: The Winter Soldier     1\n",
       "Doctor Strange                          1\n",
       "Guardians of the Galaxy                 1\n",
       "Guardians of the Galaxy Vol. 2          1\n",
       "Incredible Hulk !The Incredible Hulk    1\n",
       "Iron Man                                1\n",
       "Iron Man 2                              1\n",
       "Iron Man 3                              1\n",
       "Marvel's The Avengers                   1\n",
       "Spider-Man: Homecoming                  1\n",
       "Thor                                    1\n",
       "Thor: Ragnarok                          1\n",
       "Thor: The Dark World                    1\n",
       "dtype: int64"
      ]
     },
     "execution_count": 99,
     "metadata": {},
     "output_type": "execute_result"
    }
   ],
   "source": [
    "moviedata_group = moviedata.groupby('Film')\n",
    "moviedata_group.size()"
   ]
  },
  {
   "cell_type": "code",
   "execution_count": 100,
   "metadata": {},
   "outputs": [
    {
     "data": {
      "text/html": [
       "<div>\n",
       "<style>\n",
       "    .dataframe thead tr:only-child th {\n",
       "        text-align: right;\n",
       "    }\n",
       "\n",
       "    .dataframe thead th {\n",
       "        text-align: left;\n",
       "    }\n",
       "\n",
       "    .dataframe tbody tr th {\n",
       "        vertical-align: top;\n",
       "    }\n",
       "</style>\n",
       "<table border=\"1\" class=\"dataframe\">\n",
       "  <thead>\n",
       "    <tr style=\"text-align: right;\">\n",
       "      <th></th>\n",
       "      <th>Worldwide Ranking</th>\n",
       "    </tr>\n",
       "    <tr>\n",
       "      <th>Film</th>\n",
       "      <th></th>\n",
       "    </tr>\n",
       "  </thead>\n",
       "  <tbody>\n",
       "    <tr>\n",
       "      <th>Ant-Man</th>\n",
       "      <td>179</td>\n",
       "    </tr>\n",
       "    <tr>\n",
       "      <th>Avengers: Age of Ultron</th>\n",
       "      <td>7</td>\n",
       "    </tr>\n",
       "    <tr>\n",
       "      <th>Black Panther</th>\n",
       "      <td>10</td>\n",
       "    </tr>\n",
       "    <tr>\n",
       "      <th>Captain America: Civil War</th>\n",
       "      <td>16</td>\n",
       "    </tr>\n",
       "    <tr>\n",
       "      <th>Captain America: The First Avenger</th>\n",
       "      <td>298</td>\n",
       "    </tr>\n",
       "    <tr>\n",
       "      <th>Captain America: The Winter Soldier</th>\n",
       "      <td>96</td>\n",
       "    </tr>\n",
       "    <tr>\n",
       "      <th>Doctor Strange</th>\n",
       "      <td>108</td>\n",
       "    </tr>\n",
       "    <tr>\n",
       "      <th>Guardians of the Galaxy</th>\n",
       "      <td>81</td>\n",
       "    </tr>\n",
       "    <tr>\n",
       "      <th>Guardians of the Galaxy Vol. 2</th>\n",
       "      <td>60</td>\n",
       "    </tr>\n",
       "    <tr>\n",
       "      <th>Incredible Hulk !The Incredible Hulk</th>\n",
       "      <td>508</td>\n",
       "    </tr>\n",
       "    <tr>\n",
       "      <th>Iron Man</th>\n",
       "      <td>146</td>\n",
       "    </tr>\n",
       "    <tr>\n",
       "      <th>Iron Man 2</th>\n",
       "      <td>128</td>\n",
       "    </tr>\n",
       "    <tr>\n",
       "      <th>Iron Man 3</th>\n",
       "      <td>14</td>\n",
       "    </tr>\n",
       "    <tr>\n",
       "      <th>Marvel's The Avengers</th>\n",
       "      <td>5</td>\n",
       "    </tr>\n",
       "    <tr>\n",
       "      <th>Spider-Man: Homecoming</th>\n",
       "      <td>52</td>\n",
       "    </tr>\n",
       "    <tr>\n",
       "      <th>Thor</th>\n",
       "      <td>222</td>\n",
       "    </tr>\n",
       "    <tr>\n",
       "      <th>Thor: Ragnarok</th>\n",
       "      <td>62</td>\n",
       "    </tr>\n",
       "    <tr>\n",
       "      <th>Thor: The Dark World</th>\n",
       "      <td>119</td>\n",
       "    </tr>\n",
       "  </tbody>\n",
       "</table>\n",
       "</div>"
      ],
      "text/plain": [
       "                                       Worldwide Ranking\n",
       "Film                                                    \n",
       "Ant-Man                                              179\n",
       "Avengers: Age of Ultron                                7\n",
       "Black Panther                                         10\n",
       "Captain America: Civil War                            16\n",
       "Captain America: The First Avenger                   298\n",
       "Captain America: The Winter Soldier                   96\n",
       "Doctor Strange                                       108\n",
       "Guardians of the Galaxy                               81\n",
       "Guardians of the Galaxy Vol. 2                        60\n",
       "Incredible Hulk !The Incredible Hulk                 508\n",
       "Iron Man                                             146\n",
       "Iron Man 2                                           128\n",
       "Iron Man 3                                            14\n",
       "Marvel's The Avengers                                  5\n",
       "Spider-Man: Homecoming                                52\n",
       "Thor                                                 222\n",
       "Thor: Ragnarok                                        62\n",
       "Thor: The Dark World                                 119"
      ]
     },
     "execution_count": 100,
     "metadata": {},
     "output_type": "execute_result"
    }
   ],
   "source": [
    "moviedata_totals = moviedata_group.sum()\n",
    "moviedata_totals"
   ]
  },
  {
   "cell_type": "code",
   "execution_count": null,
   "metadata": {
    "collapsed": true
   },
   "outputs": [],
   "source": [
    "moviedata_totals = moviedata_group.sum()\n",
    "moviedata_totals"
   ]
  },
  {
   "cell_type": "code",
   "execution_count": 101,
   "metadata": {},
   "outputs": [
    {
     "data": {
      "image/png": "[encoded data removed]",
      "text/plain": [
       "<matplotlib.figure.Figure at 0x1e8b4fce898>"
      ]
     },
     "execution_count": 101,
     "metadata": {},
     "output_type": "execute_result"
    }
   ],
   "source": [
    "my_plot = moviedata_totals.plot(kind='bar')\n",
    "my_plot.figure"
   ]
  },
  {
   "cell_type": "code",
   "execution_count": 107,
   "metadata": {},
   "outputs": [
    {
     "data": {
      "image/png": "[encoded data removed]",
      "text/plain": [
       "<matplotlib.figure.Figure at 0x1e8b407d4a8>"
      ]
     },
     "metadata": {},
     "output_type": "display_data"
    }
   ],
   "source": [
    "#Create Word cloud\n",
    "wc = WordCloud(scale = 4)\n",
    "wc.generate(str(movieNames))\n",
    "plt.imshow(wc)\n",
    "plt.axis('off')\n",
    "plt.show()"
   ]
  },
  {
   "cell_type": "code",
   "execution_count": null,
   "metadata": {
    "collapsed": true
   },
   "outputs": [],
   "source": []
  }
 ],
 "metadata": {
  "kernelspec": {
   "display_name": "Python 3",
   "language": "python",
   "name": "python3"
  },
  "language_info": {
   "codemirror_mode": {
    "name": "ipython",
    "version": 3
   },
   "file_extension": ".py",
   "mimetype": "text/x-python",
   "name": "python",
   "nbconvert_exporter": "python",
   "pygments_lexer": "ipython3",
   "version": "3.6.3"
  }
 },
 "nbformat": 4,
 "nbformat_minor": 2
}
